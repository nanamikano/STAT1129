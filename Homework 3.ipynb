{
 "cells": [
  {
   "cell_type": "code",
   "execution_count": 1,
   "metadata": {},
   "outputs": [],
   "source": [
    "# Question 0\n",
    "marks={'Andy':88, 'Amy':66, 'James':90, 'Jules':55, 'Arthur':77}"
   ]
  },
  {
   "cell_type": "code",
   "execution_count": 47,
   "metadata": {},
   "outputs": [
    {
     "name": "stdout",
     "output_type": "stream",
     "text": [
      "Andy : 88\n",
      "Amy : 66\n",
      "James : 90\n",
      "Jules : 55\n",
      "Arthur : 77\n"
     ]
    }
   ],
   "source": [
    "# Question 1\n",
    "for i in marks:\n",
    "    print(i, ':',marks[i])"
   ]
  },
  {
   "cell_type": "code",
   "execution_count": 17,
   "metadata": {},
   "outputs": [
    {
     "name": "stdout",
     "output_type": "stream",
     "text": [
      "75.2\n",
      "55\n",
      "90\n"
     ]
    }
   ],
   "source": [
    "# Question 2\n",
    "marks_list = list(marks.values())\n",
    "\n",
    "import statistics as stats\n",
    "\n",
    "print(stats.mean(marks_list))\n",
    "print(min(marks_list))\n",
    "print(max(marks_list))"
   ]
  },
  {
   "cell_type": "code",
   "execution_count": 34,
   "metadata": {},
   "outputs": [
    {
     "name": "stdout",
     "output_type": "stream",
     "text": [
      "Andy\n",
      "Amy\n"
     ]
    }
   ],
   "source": [
    "# Question 3\n",
    "\n",
    "for i in marks.keys():\n",
    "    if 'J' in i:\n",
    "        break\n",
    "    print(i)"
   ]
  },
  {
   "cell_type": "code",
   "execution_count": 35,
   "metadata": {},
   "outputs": [
    {
     "name": "stdout",
     "output_type": "stream",
     "text": [
      "Andy\n",
      "Amy\n",
      "Arthur\n"
     ]
    }
   ],
   "source": [
    "# Question 4\n",
    "\n",
    "for i in marks.keys():\n",
    "    if 'J' in i:\n",
    "        continue\n",
    "    print(i)\n"
   ]
  },
  {
   "cell_type": "code",
   "execution_count": 41,
   "metadata": {},
   "outputs": [
    {
     "name": "stdout",
     "output_type": "stream",
     "text": [
      "Andy got a 88\n"
     ]
    }
   ],
   "source": [
    "# Question 5\n",
    "\n",
    "def print_student(student_name):\n",
    "    for student in marks:\n",
    "        if student == student_name:\n",
    "            print(student_name, \"got a\", marks[student])\n",
    "            break\n",
    "        else:\n",
    "            print(\"This student cannot be found\")\n",
    "            break\n",
    "\n",
    "print_student('Andy')\n",
    "            "
   ]
  }
 ],
 "metadata": {
  "kernelspec": {
   "display_name": "Python 3",
   "language": "python",
   "name": "python3"
  },
  "language_info": {
   "codemirror_mode": {
    "name": "ipython",
    "version": 3
   },
   "file_extension": ".py",
   "mimetype": "text/x-python",
   "name": "python",
   "nbconvert_exporter": "python",
   "pygments_lexer": "ipython3",
   "version": "3.8.5"
  }
 },
 "nbformat": 4,
 "nbformat_minor": 4
}
